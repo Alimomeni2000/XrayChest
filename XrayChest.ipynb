{
 "cells": [
  {
   "cell_type": "code",
   "execution_count": 1,
   "id": "febc53bc",
   "metadata": {},
   "outputs": [
    {
     "name": "stderr",
     "output_type": "stream",
     "text": [
      "2023-03-05 12:46:10.499392: I tensorflow/core/platform/cpu_feature_guard.cc:193] This TensorFlow binary is optimized with oneAPI Deep Neural Network Library (oneDNN) to use the following CPU instructions in performance-critical operations:  AVX2 FMA\n",
      "To enable them in other operations, rebuild TensorFlow with the appropriate compiler flags.\n",
      "2023-03-05 12:46:11.319916: W tensorflow/stream_executor/platform/default/dso_loader.cc:64] Could not load dynamic library 'libcudart.so.11.0'; dlerror: libcudart.so.11.0: cannot open shared object file: No such file or directory\n",
      "2023-03-05 12:46:11.319952: I tensorflow/stream_executor/cuda/cudart_stub.cc:29] Ignore above cudart dlerror if you do not have a GPU set up on your machine.\n",
      "2023-03-05 12:46:11.494890: E tensorflow/stream_executor/cuda/cuda_blas.cc:2981] Unable to register cuBLAS factory: Attempting to register factory for plugin cuBLAS when one has already been registered\n",
      "2023-03-05 12:46:13.292489: W tensorflow/stream_executor/platform/default/dso_loader.cc:64] Could not load dynamic library 'libnvinfer.so.7'; dlerror: libnvinfer.so.7: cannot open shared object file: No such file or directory\n",
      "2023-03-05 12:46:13.292755: W tensorflow/stream_executor/platform/default/dso_loader.cc:64] Could not load dynamic library 'libnvinfer_plugin.so.7'; dlerror: libnvinfer_plugin.so.7: cannot open shared object file: No such file or directory\n",
      "2023-03-05 12:46:13.292772: W tensorflow/compiler/tf2tensorrt/utils/py_utils.cc:38] TF-TRT Warning: Cannot dlopen some TensorRT libraries. If you would like to use Nvidia GPU with TensorRT, please make sure the missing libraries mentioned above are installed properly.\n",
      "/home/ali/anaconda3/lib/python3.9/site-packages/scipy/__init__.py:146: UserWarning: A NumPy version >=1.16.5 and <1.23.0 is required for this version of SciPy (detected version 1.24.1\n",
      "  warnings.warn(f\"A NumPy version >={np_minversion} and <{np_maxversion}\"\n"
     ]
    }
   ],
   "source": [
    "import numpy as np\n",
    "import pandas as pd\n",
    "import matplotlib.pyplot as plt\n",
    "from tensorflow.keras.preprocessing.image import ImageDataGenerator\n",
    "from tensorflow.keras.utils import to_categorical, plot_model\n",
    "from tensorflow.keras.models import Sequential\n",
    "from tensorflow.keras.layers import Conv2D, MaxPool2D, Flatten, Dense\n",
    "from tensorflow.keras.optimizers import Adam\n",
    "from keras.utils.vis_utils import plot_model\n",
    "from sklearn.utils.class_weight import compute_class_weight\n",
    "import tensorflow as tf\n",
    "from tensorflow.keras.callbacks import EarlyStopping, ReduceLROnPlateau, ModelCheckpoint"
   ]
  },
  {
   "cell_type": "code",
   "execution_count": 2,
   "id": "e15d78b4",
   "metadata": {},
   "outputs": [],
   "source": [
    "image_generator = ImageDataGenerator(\n",
    "    rescale= 1.0/255.0,\n",
    "    shear_range= 0.1,\n",
    "    zoom_range= 0.3,\n",
    ")\n",
    "# image_generator_test= ImageDataGenerator(\n",
    "#     rescale= 1./255.,\n",
    "# )"
   ]
  },
  {
   "cell_type": "code",
   "execution_count": 3,
   "id": "ad6e8e98",
   "metadata": {},
   "outputs": [
    {
     "name": "stdout",
     "output_type": "stream",
     "text": [
      "Found 550 images belonging to 2 classes.\n"
     ]
    }
   ],
   "source": [
    "train_data= image_generator.flow_from_directory('data/',color_mode = 'grayscale', class_mode= 'binary', batch_size=50, target_size=(500,500))\n"
   ]
  },
  {
   "cell_type": "code",
   "execution_count": 4,
   "id": "c6d84a85",
   "metadata": {},
   "outputs": [
    {
     "name": "stdout",
     "output_type": "stream",
     "text": [
      "Found 74 images belonging to 2 classes.\n"
     ]
    }
   ],
   "source": [
    "test_data= image_generator.flow_from_directory('test_data/', color_mode = 'grayscale', class_mode= 'binary', batch_size=50, target_size=(500,500))"
   ]
  },
  {
   "cell_type": "code",
   "execution_count": 6,
   "id": "f0250eb5",
   "metadata": {},
   "outputs": [
    {
     "name": "stderr",
     "output_type": "stream",
     "text": [
      "2023-03-05 12:48:40.992033: W tensorflow/core/framework/cpu_allocator_impl.cc:82] Allocation of 27557888 exceeds 10% of free system memory.\n",
      "2023-03-05 12:48:41.004989: W tensorflow/core/framework/cpu_allocator_impl.cc:82] Allocation of 27557888 exceeds 10% of free system memory.\n"
     ]
    }
   ],
   "source": [
    "model = Sequential()\n",
    "model.add(Conv2D(32, (3, 3), activation='relu', input_shape=(500,500,1)))\n",
    "model.add(MaxPool2D(pool_size=(2, 2)))\n",
    "model.add(Conv2D(32, (3, 3), activation='relu'))\n",
    "model.add(MaxPool2D(pool_size=(2, 2)))\n",
    "model.add(Conv2D(64, (3, 3), activation='relu'))\n",
    "model.add(MaxPool2D(pool_size=(2, 2)))\n",
    "model.add(Conv2D(64, (3, 3), activation='relu'))\n",
    "model.add(MaxPool2D(pool_size=(2, 2)))\n",
    "model.add(Flatten())\n",
    "model.add(Dense(units=128, activation='relu'))\n",
    "model.add(Dense(units=64, activation='relu'))\n",
    "model.add(Dense(units=32, activation='relu'))\n",
    "model.add(Dense(units=1, activation='sigmoid'))\n",
    "\n",
    "         "
   ]
  },
  {
   "cell_type": "code",
   "execution_count": 7,
   "id": "ecc1de28",
   "metadata": {},
   "outputs": [
    {
     "name": "stdout",
     "output_type": "stream",
     "text": [
      "Model: \"sequential_1\"\n",
      "_________________________________________________________________\n",
      " Layer (type)                Output Shape              Param #   \n",
      "=================================================================\n",
      " conv2d_4 (Conv2D)           (None, 498, 498, 32)      320       \n",
      "                                                                 \n",
      " max_pooling2d_4 (MaxPooling  (None, 249, 249, 32)     0         \n",
      " 2D)                                                             \n",
      "                                                                 \n",
      " conv2d_5 (Conv2D)           (None, 247, 247, 32)      9248      \n",
      "                                                                 \n",
      " max_pooling2d_5 (MaxPooling  (None, 123, 123, 32)     0         \n",
      " 2D)                                                             \n",
      "                                                                 \n",
      " conv2d_6 (Conv2D)           (None, 121, 121, 64)      18496     \n",
      "                                                                 \n",
      " max_pooling2d_6 (MaxPooling  (None, 60, 60, 64)       0         \n",
      " 2D)                                                             \n",
      "                                                                 \n",
      " conv2d_7 (Conv2D)           (None, 58, 58, 64)        36928     \n",
      "                                                                 \n",
      " max_pooling2d_7 (MaxPooling  (None, 29, 29, 64)       0         \n",
      " 2D)                                                             \n",
      "                                                                 \n",
      " flatten_1 (Flatten)         (None, 53824)             0         \n",
      "                                                                 \n",
      " dense_3 (Dense)             (None, 128)               6889600   \n",
      "                                                                 \n",
      " dense_4 (Dense)             (None, 64)                8256      \n",
      "                                                                 \n",
      " dense_5 (Dense)             (None, 32)                2080      \n",
      "                                                                 \n",
      " dense_6 (Dense)             (None, 1)                 33        \n",
      "                                                                 \n",
      "=================================================================\n",
      "Total params: 6,964,961\n",
      "Trainable params: 6,964,961\n",
      "Non-trainable params: 0\n",
      "_________________________________________________________________\n"
     ]
    }
   ],
   "source": [
    "model.summary()"
   ]
  },
  {
   "cell_type": "code",
   "execution_count": 8,
   "id": "e1e028a5",
   "metadata": {},
   "outputs": [],
   "source": [
    "model.compile(optimizer=Adam(learning_rate=0.001), loss='binary_crossentropy', metrics =['accuracy'])"
   ]
  },
  {
   "cell_type": "code",
   "execution_count": 9,
   "id": "2e620897",
   "metadata": {},
   "outputs": [],
   "source": [
    "weights= compute_class_weight(class_weight='balanced', classes=np.unique(train_data.classes),y=train_data.classes )"
   ]
  },
  {
   "cell_type": "code",
   "execution_count": 10,
   "id": "e3f94e7f",
   "metadata": {},
   "outputs": [],
   "source": [
    "class_weights = dict(zip(np.unique(train_data.classes), weights))"
   ]
  },
  {
   "cell_type": "code",
   "execution_count": 11,
   "id": "d07d5ca8",
   "metadata": {},
   "outputs": [],
   "source": [
    "es = EarlyStopping(monitor='val_loss', mode = 'min', patience=3)\n",
    "rlrop = ReduceLROnPlateau(monitor='val_loss', patience=2  ,factor=0.2, min_lr=0.001)\n",
    "mch = ModelCheckpoint('cheskxry.h5', monitor='val_loss', save_best_only=True)"
   ]
  },
  {
   "cell_type": "code",
   "execution_count": null,
   "id": "9e9a7ab8",
   "metadata": {},
   "outputs": [
    {
     "name": "stderr",
     "output_type": "stream",
     "text": [
      "/tmp/ipykernel_170374/285321336.py:1: UserWarning: `Model.fit_generator` is deprecated and will be removed in a future version. Please use `Model.fit`, which supports generators.\n",
      "  history = model.fit_generator(train_data, steps_per_epoch=len(train_data), validation_data=test_data, validation_steps=len(test_data), epochs=30, callbacks=[es, rlrop, mch],class_weight=class_weights)\n"
     ]
    },
    {
     "name": "stdout",
     "output_type": "stream",
     "text": [
      "Epoch 1/30\n",
      "11/11 [==============================] - 173s 12s/step - loss: 0.7017 - accuracy: 0.4145 - val_loss: 0.6744 - val_accuracy: 0.6216 - lr: 0.0010\n",
      "Epoch 2/30\n",
      "11/11 [==============================] - 132s 12s/step - loss: 0.6510 - accuracy: 0.5945 - val_loss: 0.5441 - val_accuracy: 0.7027 - lr: 0.0010\n",
      "Epoch 3/30\n",
      "11/11 [==============================] - 124s 11s/step - loss: 0.6056 - accuracy: 0.6800 - val_loss: 0.4696 - val_accuracy: 0.7703 - lr: 0.0010\n",
      "Epoch 4/30\n",
      "11/11 [==============================] - 124s 11s/step - loss: 0.5311 - accuracy: 0.7255 - val_loss: 0.4536 - val_accuracy: 0.7703 - lr: 0.0010\n",
      "Epoch 5/30\n",
      "11/11 [==============================] - 125s 11s/step - loss: 0.4876 - accuracy: 0.7727 - val_loss: 0.5540 - val_accuracy: 0.7297 - lr: 0.0010\n",
      "Epoch 6/30\n",
      "11/11 [==============================] - 125s 11s/step - loss: 0.4750 - accuracy: 0.7982 - val_loss: 0.4177 - val_accuracy: 0.8108 - lr: 0.0010\n",
      "Epoch 7/30\n",
      " 2/11 [====>.........................] - ETA: 1:48 - loss: 0.4489 - accuracy: 0.8500"
     ]
    }
   ],
   "source": [
    "history = model.fit_generator(train_data, steps_per_epoch=len(train_data), validation_data=test_data, validation_steps=len(test_data), epochs=30, callbacks=[es, rlrop, mch],class_weight=class_weights) "
   ]
  },
  {
   "cell_type": "code",
   "execution_count": 15,
   "id": "c9ec30d4",
   "metadata": {},
   "outputs": [
    {
     "data": {
      "text/plain": [
       "[<matplotlib.lines.Line2D at 0x7f5e2fc8baf0>]"
      ]
     },
     "execution_count": 15,
     "metadata": {},
     "output_type": "execute_result"
    },
    {
     "data": {
      "image/png": "[encoded data removed]",
      "text/plain": [
       "<Figure size 432x288 with 1 Axes>"
      ]
     },
     "metadata": {
      "needs_background": "light"
     },
     "output_type": "display_data"
    }
   ],
   "source": [
    "import matplotlib.pyplot as plt\n",
    "plt.plot(history.history['accuracy'], color='green')\n",
    "plt.plot(history.history['val_accuracy'], color='blue')"
   ]
  }
 ],
 "metadata": {
  "kernelspec": {
   "display_name": "Python 3 (ipykernel)",
   "language": "python",
   "name": "python3"
  },
  "language_info": {
   "codemirror_mode": {
    "name": "ipython",
    "version": 3
   },
   "file_extension": ".py",
   "mimetype": "text/x-python",
   "name": "python",
   "nbconvert_exporter": "python",
   "pygments_lexer": "ipython3",
   "version": "3.9.12"
  }
 },
 "nbformat": 4,
 "nbformat_minor": 5
}
